{
  "cells": [
    {
      "cell_type": "code",
      "execution_count": 17,
      "metadata": {
        "colab": {
          "base_uri": "https://localhost:8080/"
        },
        "id": "BaFwS2Sgx-P-",
        "outputId": "e00eab62-0748-464b-e1b7-2376e6a359af"
      },
      "outputs": [
        {
          "name": "stdout",
          "output_type": "stream",
          "text": [
            "Drive already mounted at /content/drive; to attempt to forcibly remount, call drive.mount(\"/content/drive\", force_remount=True).\n"
          ]
        }
      ],
      "source": [
        "from google.colab import drive\n",
        "drive.mount('/content/drive')\n"
      ]
    },
    {
      "cell_type": "code",
      "execution_count": 18,
      "metadata": {
        "id": "zzN5-1-41exF"
      },
      "outputs": [],
      "source": [
        "import os\n",
        "import torch\n",
        "import numpy as np\n",
        "import random\n",
        "from torch.utils.data import Dataset, DataLoader\n",
        "from PIL import Image\n",
        "import torchvision.transforms as T\n",
        "import torchvision.utils as utils\n",
        "from torch import nn\n",
        "from tqdm import tqdm\n",
        "from timeit import default_timer as timer\n",
        "import albumentations as A\n",
        "from albumentations import ToTensorV2"
      ]
    },
    {
      "cell_type": "code",
      "execution_count": 19,
      "metadata": {
        "colab": {
          "base_uri": "https://localhost:8080/"
        },
        "id": "BpWbnLqw1grd",
        "outputId": "64b06bef-0668-4e8d-93ed-d825ca511e82"
      },
      "outputs": [
        {
          "name": "stdout",
          "output_type": "stream",
          "text": [
            "Using device: cuda\n"
          ]
        }
      ],
      "source": [
        "torch.manual_seed(42)\n",
        "torch.cuda.manual_seed(42)\n",
        "random.seed(42)\n",
        "np.random.seed(42)\n",
        "\n",
        "device = torch.device(\"cuda\" if torch.cuda.is_available() else \"cpu\")\n",
        "print(f\"Using device: {device}\")"
      ]
    },
    {
      "cell_type": "code",
      "execution_count": 20,
      "metadata": {
        "id": "H39o7i7w1hYF"
      },
      "outputs": [],
      "source": [
        "class DRIVE_dataset(Dataset):\n",
        "    def __init__(self, img_dir, mask_dir, transform=None):\n",
        "        self.img_dir = img_dir\n",
        "        self.mask_dir = mask_dir\n",
        "        self.transform = transform\n",
        "        self.images = [img for img in os.listdir(img_dir) if img.endswith('.tif')]\n",
        "        self.valid_pairs = []\n",
        "        for img in self.images:\n",
        "            if 'training' in img or 'test' in img:\n",
        "                base_name = img.split('_')[0]\n",
        "                mask_name = f\"{base_name}_manual1.gif\"\n",
        "                mask_path = os.path.join(self.mask_dir, mask_name)\n",
        "                if os.path.exists(mask_path):\n",
        "                    self.valid_pairs.append((img, mask_name))\n",
        "        if not self.valid_pairs:\n",
        "            raise ValueError(\"No valid image-mask pairs\")\n",
        "        print(f\"Found {len(self.valid_pairs)} valid pairs in {img_dir}\")\n",
        "\n",
        "    def __len__(self):\n",
        "        return len(self.valid_pairs)\n",
        "\n",
        "    def __getitem__(self, index):\n",
        "        image_name, mask_name = self.valid_pairs[index]\n",
        "        image_path = os.path.join(self.img_dir, image_name)\n",
        "        mask_path = os.path.join(self.mask_dir, mask_name)\n",
        "\n",
        "        image = np.array(Image.open(image_path).convert(\"RGB\"))\n",
        "        mask = np.array(Image.open(mask_path).convert(\"L\"))\n",
        "\n",
        "        # Binarize mask: make sure it's 0 and 1\n",
        "        mask = (mask > 0).astype(np.uint8)\n",
        "\n",
        "        # If needed, expand mask dims to HWC\n",
        "        if mask.ndim == 2:\n",
        "            mask = np.expand_dims(mask, axis=-1)\n",
        "\n",
        "        if self.transform:\n",
        "            augmented = self.transform(image=image, mask=mask)\n",
        "            image = augmented['image']\n",
        "            mask = augmented['mask']\n",
        "            mask = mask.float()\n",
        "            mask = mask.permute(2,0,1)\n",
        "\n",
        "        return image, mask"
      ]
    },
    {
      "cell_type": "code",
      "execution_count": 21,
      "metadata": {
        "id": "O_yhcqWS1k-d"
      },
      "outputs": [],
      "source": [
        "class DoubleConv(nn.Module):\n",
        "    def __init__(self, in_channels, out_channels):\n",
        "        super(DoubleConv, self).__init__()\n",
        "        self.double_conv = nn.Sequential(\n",
        "            nn.Conv2d(in_channels, out_channels, kernel_size=3, padding=1),\n",
        "            nn.BatchNorm2d(out_channels),\n",
        "            nn.ReLU(inplace=True),\n",
        "            nn.Conv2d(out_channels, out_channels, kernel_size=3, padding=1),\n",
        "            nn.BatchNorm2d(out_channels),\n",
        "            nn.ReLU(inplace=True)\n",
        "        )\n",
        "    def forward(self, x):\n",
        "        return self.double_conv(x)\n",
        "\n",
        "class Unet(nn.Module):\n",
        "    def __init__(self, in_channels=3, out_channels=1):\n",
        "        super(Unet, self).__init__()\n",
        "        self.enc1 = DoubleConv(in_channels, 64)\n",
        "        self.enc2 = DoubleConv(64, 128)\n",
        "        self.enc3 = DoubleConv(128, 256)\n",
        "        self.enc4 = DoubleConv(256, 512)\n",
        "        self.bottle_neck = DoubleConv(512, 1024)\n",
        "        self.pool = nn.MaxPool2d(kernel_size=2)\n",
        "        self.up1 = nn.ConvTranspose2d(1024, 512, kernel_size=2, stride=2)\n",
        "        self.dec1 = DoubleConv(1024, 512)\n",
        "        self.up2 = nn.ConvTranspose2d(512, 256, kernel_size=2, stride=2)\n",
        "        self.dec2 = DoubleConv(512, 256)\n",
        "        self.up3 = nn.ConvTranspose2d(256, 128, kernel_size=2, stride=2)\n",
        "        self.dec3 = DoubleConv(256, 128)\n",
        "        self.up4 = nn.ConvTranspose2d(128, 64, kernel_size=2, stride=2)\n",
        "        self.dec4 = DoubleConv(128, 64)\n",
        "        self.out_conv = nn.Conv2d(64, out_channels, kernel_size=1)\n",
        "\n",
        "    def forward(self, x):\n",
        "        x1 = self.enc1(x)\n",
        "        x2 = self.enc2(self.pool(x1))\n",
        "        x3 = self.enc3(self.pool(x2))\n",
        "        x4 = self.enc4(self.pool(x3))\n",
        "        x = self.bottle_neck(self.pool(x4))\n",
        "        x = self.up1(x)\n",
        "        x = torch.cat([x, x4], dim=1)\n",
        "        x = self.dec1(x)\n",
        "        x = self.up2(x)\n",
        "        x = torch.cat([x, x3], dim=1)\n",
        "        x = self.dec2(x)\n",
        "        x = self.up3(x)\n",
        "        x = torch.cat([x, x2], dim=1)\n",
        "        x = self.dec3(x)\n",
        "        x = self.up4(x)\n",
        "        x = torch.cat([x, x1], dim=1)\n",
        "        x = self.dec4(x)\n",
        "        return self.out_conv(x)"
      ]
    },
    {
      "cell_type": "code",
      "execution_count": 22,
      "metadata": {
        "id": "WcQfgkOQ1o7u"
      },
      "outputs": [],
      "source": [
        "def iou_score(pred, target, smooth=1e-6):\n",
        "    pred = torch.sigmoid(pred)\n",
        "    pred = (pred > 0.5).float()\n",
        "    target = target.float()\n",
        "\n",
        "    intersection = (pred * target).sum()\n",
        "    union = pred.sum() + target.sum() - intersection\n",
        "\n",
        "    if union == 0:\n",
        "        return 0.0\n",
        "    return (intersection + smooth) / (union + smooth)\n",
        "\n",
        "def dice_score(pred, target, smooth=1e-6):\n",
        "    pred = torch.sigmoid(pred)\n",
        "    pred = (pred > 0.5).float()\n",
        "    target = target.float()\n",
        "    pred_sum = pred.sum().item()\n",
        "    target_sum = target.sum().item()\n",
        "    #print(f\"Pred sum: {pred_sum}, Target sum: {target_sum}\")\n",
        "    intersection = (pred * target).sum()\n",
        "    denominator = pred.sum() + target.sum() + smooth\n",
        "    if denominator == smooth:\n",
        "        return 0.0\n",
        "    return (2. * intersection + smooth) / denominator\n",
        "\n",
        "def dice_loss(pred, target, smooth=1e-6):\n",
        "    pred = torch.sigmoid(pred)\n",
        "    pred = (pred > 0.5).float()\n",
        "    target = target.float()\n",
        "    intersection = (pred * target).sum()\n",
        "    denominator = pred.sum() + target.sum() + smooth\n",
        "    if denominator == smooth:\n",
        "        return 1.0\n",
        "    return 1 - ((2. * intersection + smooth) / denominator)\n",
        "\n",
        "def combined_loss(y_pred, y_true):\n",
        "    bce = nn.BCEWithLogitsLoss(pos_weight=torch.tensor([20.0]).to(device))(y_pred, y_true)\n",
        "    dice = dice_loss(y_pred, y_true)\n",
        "    return 0.4 * bce + 0.6 * dice"
      ]
    },
    {
      "cell_type": "code",
      "execution_count": 23,
      "metadata": {
        "id": "I7tF18Zo1s4m"
      },
      "outputs": [],
      "source": [
        "\n",
        "def train_step(model, dataloader, criterion, optimizer):\n",
        "    model.train()\n",
        "    train_loss, train_dice,train_iou = 0, 0,0\n",
        "    for batch, (X, y) in enumerate(dataloader):\n",
        "        X, y = X.to(device), y.to(device)\n",
        "        y_pred = model(X)\n",
        "        loss = criterion(y_pred, y)\n",
        "        train_loss += loss.item()\n",
        "        optimizer.zero_grad()\n",
        "        loss.backward()\n",
        "        optimizer.step()\n",
        "        train_dice += dice_score(y_pred, y)\n",
        "        train_iou += iou_score(y_pred,y)\n",
        "    train_loss /= len(dataloader)\n",
        "    train_dice /= len(dataloader)\n",
        "    train_iou /= len(dataloader)\n",
        "    return train_loss, train_dice,train_iou"
      ]
    },
    {
      "cell_type": "code",
      "execution_count": 24,
      "metadata": {
        "id": "cyw8E0qA1y4m"
      },
      "outputs": [],
      "source": [
        "\n",
        "def test_step(model, dataloader, criterion, epoch):\n",
        "    model.eval()\n",
        "    test_loss, test_dice,test_iou = 0, 0, 0\n",
        "    with torch.no_grad():\n",
        "        for batch, (X, y) in enumerate(dataloader):\n",
        "            X, y = X.to(device), y.to(device)\n",
        "            y_pred = model(X)\n",
        "            loss = criterion(y_pred, y)\n",
        "            test_loss += loss.item()\n",
        "            test_dice += dice_score(y_pred, y)\n",
        "            test_iou += iou_score(y_pred,y)\n",
        "            #if batch == 8 :\n",
        "                #utils.save_image(pred, f\"pred_epoch_{epoch+1}.png\")\n",
        "                #utils.save_image(y, f\"target_epoch_{epoch+1}.png\")\n",
        "            if batch == 0:\n",
        "                pred = torch.sigmoid(y_pred)\n",
        "                pred = (pred > 0.5).float()\n",
        "\n",
        "    test_loss /= len(dataloader)\n",
        "    test_dice /= len(dataloader)\n",
        "    test_iou /= len(dataloader)\n",
        "    return test_loss, test_dice,test_iou\n"
      ]
    },
    {
      "cell_type": "code",
      "execution_count": 25,
      "metadata": {
        "id": "h68uLwZU139v"
      },
      "outputs": [],
      "source": [
        "def train(model, train_dataloader, test_dataloader, optimizer, criterion, epochs=100):\n",
        "\n",
        "    results = {\"train_loss\": [], \"train_dice\": [],\"train_iou\": [], \"test_loss\": [], \"test_dice\": [],\"test_iou\":[]}\n",
        "    #scheduler = torch.optim.lr_scheduler.ReduceLROnPlateau(optimizer, mode='min', factor=0.5, patience=5)\n",
        "    for epoch in tqdm(range(epochs)):\n",
        "        train_loss, train_dice, train_iou = train_step(model, train_dataloader, criterion, optimizer)\n",
        "        test_loss, test_dice,test_iou = test_step(model, test_dataloader, criterion, epoch)\n",
        "        print(f\"Epoch: {epoch+1} | train_loss: {train_loss:.4f} | train_dice: {train_dice:.4f} | train_iou : {train_iou:.4f} |\"\n",
        "              f\"test_loss: {test_loss:.4f} | test_dice: {test_dice:.4f} | test_iou : {test_iou:.4f}\")\n",
        "        #scheduler.step(test_loss)\n",
        "        results[\"train_loss\"].append(train_loss)\n",
        "        results[\"train_dice\"].append(train_dice)\n",
        "        results[\"train_iou\"].append(train_iou)\n",
        "        results[\"test_loss\"].append(test_loss)\n",
        "        results[\"test_dice\"].append(test_dice)\n",
        "        results[\"test_iou\"].append(test_iou)\n",
        "    return results\n"
      ]
    },
    {
      "cell_type": "markdown",
      "metadata": {
        "id": "yfoeb-i7r800"
      },
      "source": []
    },
    {
      "cell_type": "code",
      "execution_count": 26,
      "metadata": {
        "colab": {
          "base_uri": "https://localhost:8080/"
        },
        "id": "BR-mAwEz173Y",
        "outputId": "98e6de56-255d-4e0e-96fc-82948443ee04"
      },
      "outputs": [
        {
          "name": "stdout",
          "output_type": "stream",
          "text": [
            "Found 20 valid pairs in /content/drive/MyDrive/retina-vessel-segmentation/data/DRIVE/training/images\n",
            "Found 20 valid pairs in /content/drive/MyDrive/retina-vessel-segmentation/data/DRIVE/test/images\n"
          ]
        }
      ],
      "source": [
        "if __name__ == \"__main__\":\n",
        "    transform = A.Compose([\n",
        "    A.Resize(512, 512),\n",
        "    #A.HorizontalFlip(p=0.5),\n",
        "    A.VerticalFlip(p=0.5),\n",
        "    #A.RandomBrightnessContrast(p=0.3),\n",
        "    #A.ShiftScaleRotate(shift_limit=0.02, scale_limit=0.05, rotate_limit=10, p=0.5),\n",
        "    A.Normalize(mean=(0.5,), std=(0.5,), max_pixel_value=255.0),\n",
        "    ToTensorV2(),\n",
        "    ])\n",
        "    image_transform = T.Compose([\n",
        "        transform,\n",
        "        #T.Normalize(mean=[0.485, 0.456, 0.406], std=[0.229, 0.224, 0.225])\n",
        "    ])\n",
        "    train_data = DRIVE_dataset(\n",
        "        img_dir=\"/content/drive/MyDrive/retina-vessel-segmentation/data/DRIVE/training/images\",\n",
        "        mask_dir=\"/content/drive/MyDrive/retina-vessel-segmentation/data/DRIVE/training/1st_manual\",\n",
        "        transform=transform\n",
        "    )\n",
        "    test_data = DRIVE_dataset(\n",
        "        img_dir=\"/content/drive/MyDrive/retina-vessel-segmentation/data/DRIVE/test/images\",\n",
        "        mask_dir=\"/content/drive/MyDrive/retina-vessel-segmentation/data/DRIVE/test/1st_manual\",\n",
        "        transform=transform\n",
        "    )\n",
        "    torch.manual_seed(42)\n",
        "    torch.cuda.manual_seed(42)\n",
        "    train_dataloader = DataLoader(train_data, batch_size=2, shuffle=True, num_workers=0)\n",
        "    test_dataloader = DataLoader(test_data, batch_size=2, shuffle=False, num_workers=0)\n",
        "    model = Unet(in_channels=3, out_channels=1).to(device)\n",
        "    criterion = combined_loss\n",
        "    optimizer = torch.optim.Adam(model.parameters(), lr=0.0001)"
      ]
    },
    {
      "cell_type": "code",
      "execution_count": 27,
      "metadata": {
        "colab": {
          "base_uri": "https://localhost:8080/"
        },
        "id": "E6pJ8Gtn2HnG",
        "outputId": "4ce2bf14-0c98-4572-ac88-7aea476e8224"
      },
      "outputs": [
        {
          "name": "stderr",
          "output_type": "stream",
          "text": [
            "  2%|▏         | 1/50 [00:06<05:36,  6.87s/it]"
          ]
        },
        {
          "name": "stdout",
          "output_type": "stream",
          "text": [
            "Epoch: 1 | train_loss: 1.0258 | train_dice: 0.2541 | train_iou : 0.1460 |test_loss: 1.3538 | test_dice: 0.0000 | test_iou : 0.0000\n"
          ]
        },
        {
          "name": "stderr",
          "output_type": "stream",
          "text": [
            "\r  4%|▍         | 2/50 [00:13<05:33,  6.95s/it]"
          ]
        },
        {
          "name": "stdout",
          "output_type": "stream",
          "text": [
            "Epoch: 2 | train_loss: 0.8229 | train_dice: 0.3053 | train_iou : 0.1808 |test_loss: 1.3418 | test_dice: 0.0002 | test_iou : 0.0001\n"
          ]
        },
        {
          "name": "stderr",
          "output_type": "stream",
          "text": [
            "\r  6%|▌         | 3/50 [00:20<05:25,  6.92s/it]"
          ]
        },
        {
          "name": "stdout",
          "output_type": "stream",
          "text": [
            "Epoch: 3 | train_loss: 0.7289 | train_dice: 0.3673 | train_iou : 0.2261 |test_loss: 1.2784 | test_dice: 0.1244 | test_iou : 0.0669\n"
          ]
        },
        {
          "name": "stderr",
          "output_type": "stream",
          "text": [
            "\r  8%|▊         | 4/50 [00:27<05:19,  6.95s/it]"
          ]
        },
        {
          "name": "stdout",
          "output_type": "stream",
          "text": [
            "Epoch: 4 | train_loss: 0.6600 | train_dice: 0.4291 | train_iou : 0.2739 |test_loss: 0.7630 | test_dice: 0.6054 | test_iou : 0.4357\n"
          ]
        },
        {
          "name": "stderr",
          "output_type": "stream",
          "text": [
            "\r 10%|█         | 5/50 [00:34<05:12,  6.95s/it]"
          ]
        },
        {
          "name": "stdout",
          "output_type": "stream",
          "text": [
            "Epoch: 5 | train_loss: 0.6226 | train_dice: 0.4575 | train_iou : 0.2982 |test_loss: 0.6010 | test_dice: 0.6095 | test_iou : 0.4391\n"
          ]
        },
        {
          "name": "stderr",
          "output_type": "stream",
          "text": [
            "\r 12%|█▏        | 6/50 [00:41<05:10,  7.06s/it]"
          ]
        },
        {
          "name": "stdout",
          "output_type": "stream",
          "text": [
            "Epoch: 6 | train_loss: 0.5936 | train_dice: 0.4940 | train_iou : 0.3302 |test_loss: 0.5463 | test_dice: 0.6003 | test_iou : 0.4315\n"
          ]
        },
        {
          "name": "stderr",
          "output_type": "stream",
          "text": [
            "\r 14%|█▍        | 7/50 [00:49<05:05,  7.10s/it]"
          ]
        },
        {
          "name": "stdout",
          "output_type": "stream",
          "text": [
            "Epoch: 7 | train_loss: 0.5856 | train_dice: 0.4877 | train_iou : 0.3238 |test_loss: 0.5991 | test_dice: 0.4920 | test_iou : 0.3281\n"
          ]
        },
        {
          "name": "stderr",
          "output_type": "stream",
          "text": [
            "\r 16%|█▌        | 8/50 [00:56<04:58,  7.11s/it]"
          ]
        },
        {
          "name": "stdout",
          "output_type": "stream",
          "text": [
            "Epoch: 8 | train_loss: 0.5717 | train_dice: 0.5025 | train_iou : 0.3366 |test_loss: 0.5385 | test_dice: 0.5815 | test_iou : 0.4137\n"
          ]
        },
        {
          "name": "stderr",
          "output_type": "stream",
          "text": [
            "\r 18%|█▊        | 9/50 [01:03<04:57,  7.26s/it]"
          ]
        },
        {
          "name": "stdout",
          "output_type": "stream",
          "text": [
            "Epoch: 9 | train_loss: 0.5537 | train_dice: 0.5257 | train_iou : 0.3571 |test_loss: 0.5493 | test_dice: 0.5345 | test_iou : 0.3655\n"
          ]
        },
        {
          "name": "stderr",
          "output_type": "stream",
          "text": [
            "\r 20%|██        | 10/50 [01:11<04:49,  7.24s/it]"
          ]
        },
        {
          "name": "stdout",
          "output_type": "stream",
          "text": [
            "Epoch: 10 | train_loss: 0.5470 | train_dice: 0.5229 | train_iou : 0.3555 |test_loss: 0.5009 | test_dice: 0.6129 | test_iou : 0.4427\n"
          ]
        },
        {
          "name": "stderr",
          "output_type": "stream",
          "text": [
            "\r 22%|██▏       | 11/50 [01:18<04:43,  7.26s/it]"
          ]
        },
        {
          "name": "stdout",
          "output_type": "stream",
          "text": [
            "Epoch: 11 | train_loss: 0.5469 | train_dice: 0.5194 | train_iou : 0.3518 |test_loss: 0.5176 | test_dice: 0.5699 | test_iou : 0.3994\n"
          ]
        },
        {
          "name": "stderr",
          "output_type": "stream",
          "text": [
            "\r 24%|██▍       | 12/50 [01:25<04:35,  7.26s/it]"
          ]
        },
        {
          "name": "stdout",
          "output_type": "stream",
          "text": [
            "Epoch: 12 | train_loss: 0.5213 | train_dice: 0.5483 | train_iou : 0.3793 |test_loss: 0.5183 | test_dice: 0.5746 | test_iou : 0.4053\n"
          ]
        },
        {
          "name": "stderr",
          "output_type": "stream",
          "text": [
            "\r 26%|██▌       | 13/50 [01:32<04:29,  7.27s/it]"
          ]
        },
        {
          "name": "stdout",
          "output_type": "stream",
          "text": [
            "Epoch: 13 | train_loss: 0.5084 | train_dice: 0.5610 | train_iou : 0.3912 |test_loss: 0.4922 | test_dice: 0.5943 | test_iou : 0.4233\n"
          ]
        },
        {
          "name": "stderr",
          "output_type": "stream",
          "text": [
            "\r 28%|██▊       | 14/50 [01:40<04:19,  7.22s/it]"
          ]
        },
        {
          "name": "stdout",
          "output_type": "stream",
          "text": [
            "Epoch: 14 | train_loss: 0.5110 | train_dice: 0.5517 | train_iou : 0.3831 |test_loss: 0.4837 | test_dice: 0.6103 | test_iou : 0.4397\n"
          ]
        },
        {
          "name": "stderr",
          "output_type": "stream",
          "text": [
            "\r 30%|███       | 15/50 [01:47<04:12,  7.20s/it]"
          ]
        },
        {
          "name": "stdout",
          "output_type": "stream",
          "text": [
            "Epoch: 15 | train_loss: 0.5076 | train_dice: 0.5528 | train_iou : 0.3832 |test_loss: 0.4967 | test_dice: 0.5852 | test_iou : 0.4147\n"
          ]
        },
        {
          "name": "stderr",
          "output_type": "stream",
          "text": [
            "\r 32%|███▏      | 16/50 [01:54<04:04,  7.18s/it]"
          ]
        },
        {
          "name": "stdout",
          "output_type": "stream",
          "text": [
            "Epoch: 16 | train_loss: 0.4910 | train_dice: 0.5780 | train_iou : 0.4076 |test_loss: 0.4721 | test_dice: 0.6187 | test_iou : 0.4486\n"
          ]
        },
        {
          "name": "stderr",
          "output_type": "stream",
          "text": [
            "\r 34%|███▍      | 17/50 [02:01<03:56,  7.18s/it]"
          ]
        },
        {
          "name": "stdout",
          "output_type": "stream",
          "text": [
            "Epoch: 17 | train_loss: 0.4925 | train_dice: 0.5668 | train_iou : 0.3970 |test_loss: 0.4702 | test_dice: 0.6164 | test_iou : 0.4463\n"
          ]
        },
        {
          "name": "stderr",
          "output_type": "stream",
          "text": [
            "\r 36%|███▌      | 18/50 [02:08<03:48,  7.15s/it]"
          ]
        },
        {
          "name": "stdout",
          "output_type": "stream",
          "text": [
            "Epoch: 18 | train_loss: 0.4907 | train_dice: 0.5640 | train_iou : 0.3948 |test_loss: 0.4736 | test_dice: 0.6077 | test_iou : 0.4368\n"
          ]
        },
        {
          "name": "stderr",
          "output_type": "stream",
          "text": [
            "\r 38%|███▊      | 19/50 [02:15<03:41,  7.15s/it]"
          ]
        },
        {
          "name": "stdout",
          "output_type": "stream",
          "text": [
            "Epoch: 19 | train_loss: 0.4696 | train_dice: 0.5938 | train_iou : 0.4234 |test_loss: 0.4701 | test_dice: 0.6026 | test_iou : 0.4319\n"
          ]
        },
        {
          "name": "stderr",
          "output_type": "stream",
          "text": [
            "\r 40%|████      | 20/50 [02:22<03:35,  7.17s/it]"
          ]
        },
        {
          "name": "stdout",
          "output_type": "stream",
          "text": [
            "Epoch: 20 | train_loss: 0.4791 | train_dice: 0.5719 | train_iou : 0.4014 |test_loss: 0.4633 | test_dice: 0.6120 | test_iou : 0.4414\n"
          ]
        },
        {
          "name": "stderr",
          "output_type": "stream",
          "text": [
            "\r 42%|████▏     | 21/50 [02:30<03:27,  7.17s/it]"
          ]
        },
        {
          "name": "stdout",
          "output_type": "stream",
          "text": [
            "Epoch: 21 | train_loss: 0.4628 | train_dice: 0.5931 | train_iou : 0.4224 |test_loss: 0.4892 | test_dice: 0.5842 | test_iou : 0.4134\n"
          ]
        },
        {
          "name": "stderr",
          "output_type": "stream",
          "text": [
            "\r 44%|████▍     | 22/50 [02:37<03:21,  7.19s/it]"
          ]
        },
        {
          "name": "stdout",
          "output_type": "stream",
          "text": [
            "Epoch: 22 | train_loss: 0.4509 | train_dice: 0.6101 | train_iou : 0.4403 |test_loss: 0.4689 | test_dice: 0.5950 | test_iou : 0.4242\n"
          ]
        },
        {
          "name": "stderr",
          "output_type": "stream",
          "text": [
            "\r 46%|████▌     | 23/50 [02:44<03:13,  7.16s/it]"
          ]
        },
        {
          "name": "stdout",
          "output_type": "stream",
          "text": [
            "Epoch: 23 | train_loss: 0.4640 | train_dice: 0.5799 | train_iou : 0.4096 |test_loss: 0.4559 | test_dice: 0.6155 | test_iou : 0.4452\n"
          ]
        },
        {
          "name": "stderr",
          "output_type": "stream",
          "text": [
            "\r 48%|████▊     | 24/50 [02:51<03:06,  7.19s/it]"
          ]
        },
        {
          "name": "stdout",
          "output_type": "stream",
          "text": [
            "Epoch: 24 | train_loss: 0.4378 | train_dice: 0.6180 | train_iou : 0.4484 |test_loss: 0.4459 | test_dice: 0.6263 | test_iou : 0.4564\n"
          ]
        },
        {
          "name": "stderr",
          "output_type": "stream",
          "text": [
            "\r 50%|█████     | 25/50 [02:58<02:59,  7.17s/it]"
          ]
        },
        {
          "name": "stdout",
          "output_type": "stream",
          "text": [
            "Epoch: 25 | train_loss: 0.4442 | train_dice: 0.6008 | train_iou : 0.4304 |test_loss: 0.4515 | test_dice: 0.6231 | test_iou : 0.4531\n"
          ]
        },
        {
          "name": "stderr",
          "output_type": "stream",
          "text": [
            "\r 52%|█████▏    | 26/50 [03:06<02:52,  7.20s/it]"
          ]
        },
        {
          "name": "stdout",
          "output_type": "stream",
          "text": [
            "Epoch: 26 | train_loss: 0.4308 | train_dice: 0.6146 | train_iou : 0.4443 |test_loss: 0.4442 | test_dice: 0.6350 | test_iou : 0.4657\n"
          ]
        },
        {
          "name": "stderr",
          "output_type": "stream",
          "text": [
            "\r 54%|█████▍    | 27/50 [03:13<02:45,  7.18s/it]"
          ]
        },
        {
          "name": "stdout",
          "output_type": "stream",
          "text": [
            "Epoch: 27 | train_loss: 0.4203 | train_dice: 0.6268 | train_iou : 0.4572 |test_loss: 0.4443 | test_dice: 0.6263 | test_iou : 0.4563\n"
          ]
        },
        {
          "name": "stderr",
          "output_type": "stream",
          "text": [
            "\r 56%|█████▌    | 28/50 [03:20<02:38,  7.19s/it]"
          ]
        },
        {
          "name": "stdout",
          "output_type": "stream",
          "text": [
            "Epoch: 28 | train_loss: 0.4247 | train_dice: 0.6180 | train_iou : 0.4486 |test_loss: 0.4335 | test_dice: 0.6537 | test_iou : 0.4859\n"
          ]
        },
        {
          "name": "stderr",
          "output_type": "stream",
          "text": [
            "\r 58%|█████▊    | 29/50 [03:27<02:30,  7.18s/it]"
          ]
        },
        {
          "name": "stdout",
          "output_type": "stream",
          "text": [
            "Epoch: 29 | train_loss: 0.4169 | train_dice: 0.6215 | train_iou : 0.4519 |test_loss: 0.4627 | test_dice: 0.5991 | test_iou : 0.4281\n"
          ]
        },
        {
          "name": "stderr",
          "output_type": "stream",
          "text": [
            "\r 60%|██████    | 30/50 [03:34<02:23,  7.17s/it]"
          ]
        },
        {
          "name": "stdout",
          "output_type": "stream",
          "text": [
            "Epoch: 30 | train_loss: 0.4057 | train_dice: 0.6320 | train_iou : 0.4626 |test_loss: 0.4461 | test_dice: 0.6301 | test_iou : 0.4603\n"
          ]
        },
        {
          "name": "stderr",
          "output_type": "stream",
          "text": [
            "\r 62%|██████▏   | 31/50 [03:42<02:16,  7.21s/it]"
          ]
        },
        {
          "name": "stdout",
          "output_type": "stream",
          "text": [
            "Epoch: 31 | train_loss: 0.3957 | train_dice: 0.6401 | train_iou : 0.4718 |test_loss: 0.4281 | test_dice: 0.6560 | test_iou : 0.4884\n"
          ]
        },
        {
          "name": "stderr",
          "output_type": "stream",
          "text": [
            "\r 64%|██████▍   | 32/50 [03:49<02:09,  7.19s/it]"
          ]
        },
        {
          "name": "stdout",
          "output_type": "stream",
          "text": [
            "Epoch: 32 | train_loss: 0.3801 | train_dice: 0.6554 | train_iou : 0.4887 |test_loss: 0.4317 | test_dice: 0.6509 | test_iou : 0.4829\n"
          ]
        },
        {
          "name": "stderr",
          "output_type": "stream",
          "text": [
            "\r 66%|██████▌   | 33/50 [03:56<02:02,  7.23s/it]"
          ]
        },
        {
          "name": "stdout",
          "output_type": "stream",
          "text": [
            "Epoch: 33 | train_loss: 0.3790 | train_dice: 0.6522 | train_iou : 0.4848 |test_loss: 0.4426 | test_dice: 0.6333 | test_iou : 0.4638\n"
          ]
        },
        {
          "name": "stderr",
          "output_type": "stream",
          "text": [
            "\r 68%|██████▊   | 34/50 [04:03<01:55,  7.20s/it]"
          ]
        },
        {
          "name": "stdout",
          "output_type": "stream",
          "text": [
            "Epoch: 34 | train_loss: 0.3663 | train_dice: 0.6640 | train_iou : 0.4981 |test_loss: 0.4545 | test_dice: 0.6176 | test_iou : 0.4473\n"
          ]
        },
        {
          "name": "stderr",
          "output_type": "stream",
          "text": [
            "\r 70%|███████   | 35/50 [04:10<01:47,  7.20s/it]"
          ]
        },
        {
          "name": "stdout",
          "output_type": "stream",
          "text": [
            "Epoch: 35 | train_loss: 0.3585 | train_dice: 0.6699 | train_iou : 0.5046 |test_loss: 0.4325 | test_dice: 0.6450 | test_iou : 0.4765\n"
          ]
        },
        {
          "name": "stderr",
          "output_type": "stream",
          "text": [
            "\r 72%|███████▏  | 36/50 [04:17<01:40,  7.16s/it]"
          ]
        },
        {
          "name": "stdout",
          "output_type": "stream",
          "text": [
            "Epoch: 36 | train_loss: 0.3535 | train_dice: 0.6773 | train_iou : 0.5128 |test_loss: 0.4587 | test_dice: 0.6166 | test_iou : 0.4461\n"
          ]
        },
        {
          "name": "stderr",
          "output_type": "stream",
          "text": [
            "\r 74%|███████▍  | 37/50 [04:25<01:33,  7.17s/it]"
          ]
        },
        {
          "name": "stdout",
          "output_type": "stream",
          "text": [
            "Epoch: 37 | train_loss: 0.3635 | train_dice: 0.6599 | train_iou : 0.4933 |test_loss: 0.4199 | test_dice: 0.6863 | test_iou : 0.5228\n"
          ]
        },
        {
          "name": "stderr",
          "output_type": "stream",
          "text": [
            "\r 76%|███████▌  | 38/50 [04:32<01:25,  7.16s/it]"
          ]
        },
        {
          "name": "stdout",
          "output_type": "stream",
          "text": [
            "Epoch: 38 | train_loss: 0.3415 | train_dice: 0.6814 | train_iou : 0.5178 |test_loss: 0.4234 | test_dice: 0.6686 | test_iou : 0.5026\n"
          ]
        },
        {
          "name": "stderr",
          "output_type": "stream",
          "text": [
            "\r 78%|███████▊  | 39/50 [04:39<01:18,  7.17s/it]"
          ]
        },
        {
          "name": "stdout",
          "output_type": "stream",
          "text": [
            "Epoch: 39 | train_loss: 0.3319 | train_dice: 0.6905 | train_iou : 0.5286 |test_loss: 0.4267 | test_dice: 0.6688 | test_iou : 0.5027\n"
          ]
        },
        {
          "name": "stderr",
          "output_type": "stream",
          "text": [
            "\r 80%|████████  | 40/50 [04:46<01:11,  7.17s/it]"
          ]
        },
        {
          "name": "stdout",
          "output_type": "stream",
          "text": [
            "Epoch: 40 | train_loss: 0.3250 | train_dice: 0.6971 | train_iou : 0.5356 |test_loss: 0.4358 | test_dice: 0.6558 | test_iou : 0.4882\n"
          ]
        },
        {
          "name": "stderr",
          "output_type": "stream",
          "text": [
            "\r 82%|████████▏ | 41/50 [04:53<01:04,  7.17s/it]"
          ]
        },
        {
          "name": "stdout",
          "output_type": "stream",
          "text": [
            "Epoch: 41 | train_loss: 0.3267 | train_dice: 0.6982 | train_iou : 0.5373 |test_loss: 0.4214 | test_dice: 0.6843 | test_iou : 0.5205\n"
          ]
        },
        {
          "name": "stderr",
          "output_type": "stream",
          "text": [
            "\r 84%|████████▍ | 42/50 [05:01<00:57,  7.21s/it]"
          ]
        },
        {
          "name": "stdout",
          "output_type": "stream",
          "text": [
            "Epoch: 42 | train_loss: 0.3377 | train_dice: 0.6787 | train_iou : 0.5145 |test_loss: 0.4157 | test_dice: 0.6884 | test_iou : 0.5253\n"
          ]
        },
        {
          "name": "stderr",
          "output_type": "stream",
          "text": [
            "\r 86%|████████▌ | 43/50 [05:08<00:50,  7.17s/it]"
          ]
        },
        {
          "name": "stdout",
          "output_type": "stream",
          "text": [
            "Epoch: 43 | train_loss: 0.3179 | train_dice: 0.7003 | train_iou : 0.5394 |test_loss: 0.4239 | test_dice: 0.6701 | test_iou : 0.5043\n"
          ]
        },
        {
          "name": "stderr",
          "output_type": "stream",
          "text": [
            "\r 88%|████████▊ | 44/50 [05:15<00:43,  7.20s/it]"
          ]
        },
        {
          "name": "stdout",
          "output_type": "stream",
          "text": [
            "Epoch: 44 | train_loss: 0.3066 | train_dice: 0.7114 | train_iou : 0.5529 |test_loss: 0.4168 | test_dice: 0.6897 | test_iou : 0.5268\n"
          ]
        },
        {
          "name": "stderr",
          "output_type": "stream",
          "text": [
            "\r 90%|█████████ | 45/50 [05:22<00:35,  7.17s/it]"
          ]
        },
        {
          "name": "stdout",
          "output_type": "stream",
          "text": [
            "Epoch: 45 | train_loss: 0.2960 | train_dice: 0.7217 | train_iou : 0.5651 |test_loss: 0.4206 | test_dice: 0.6987 | test_iou : 0.5372\n"
          ]
        },
        {
          "name": "stderr",
          "output_type": "stream",
          "text": [
            "\r 92%|█████████▏| 46/50 [05:29<00:28,  7.18s/it]"
          ]
        },
        {
          "name": "stdout",
          "output_type": "stream",
          "text": [
            "Epoch: 46 | train_loss: 0.2933 | train_dice: 0.7256 | train_iou : 0.5701 |test_loss: 0.4249 | test_dice: 0.7003 | test_iou : 0.5390\n"
          ]
        },
        {
          "name": "stderr",
          "output_type": "stream",
          "text": [
            "\r 94%|█████████▍| 47/50 [05:36<00:21,  7.16s/it]"
          ]
        },
        {
          "name": "stdout",
          "output_type": "stream",
          "text": [
            "Epoch: 47 | train_loss: 0.2939 | train_dice: 0.7226 | train_iou : 0.5665 |test_loss: 0.4155 | test_dice: 0.6954 | test_iou : 0.5333\n"
          ]
        },
        {
          "name": "stderr",
          "output_type": "stream",
          "text": [
            "\r 96%|█████████▌| 48/50 [05:44<00:14,  7.17s/it]"
          ]
        },
        {
          "name": "stdout",
          "output_type": "stream",
          "text": [
            "Epoch: 48 | train_loss: 0.2936 | train_dice: 0.7152 | train_iou : 0.5573 |test_loss: 0.4222 | test_dice: 0.7248 | test_iou : 0.5688\n"
          ]
        },
        {
          "name": "stderr",
          "output_type": "stream",
          "text": [
            "\r 98%|█████████▊| 49/50 [05:51<00:07,  7.17s/it]"
          ]
        },
        {
          "name": "stdout",
          "output_type": "stream",
          "text": [
            "Epoch: 49 | train_loss: 0.2737 | train_dice: 0.7424 | train_iou : 0.5912 |test_loss: 0.4128 | test_dice: 0.6966 | test_iou : 0.5348\n"
          ]
        },
        {
          "name": "stderr",
          "output_type": "stream",
          "text": [
            "100%|██████████| 50/50 [05:58<00:00,  7.17s/it]"
          ]
        },
        {
          "name": "stdout",
          "output_type": "stream",
          "text": [
            "Epoch: 50 | train_loss: 0.2683 | train_dice: 0.7459 | train_iou : 0.5952 |test_loss: 0.4148 | test_dice: 0.7152 | test_iou : 0.5569\n",
            "Total training time: 358.384 seconds\n"
          ]
        },
        {
          "name": "stderr",
          "output_type": "stream",
          "text": [
            "\n"
          ]
        }
      ],
      "source": [
        "start_time = timer()\n",
        "results = train(model, train_dataloader, test_dataloader, optimizer, criterion, epochs=50)\n",
        "end_time = timer()\n",
        "print(f\"Total training time: {end_time - start_time:.3f} seconds\")"
      ]
    },
    {
      "cell_type": "code",
      "execution_count": 28,
      "metadata": {
        "id": "YKWNfpEzfsNw"
      },
      "outputs": [],
      "source": [
        "torch.save(model.state_dict(), 'unet_weights.pth')\n"
      ]
    }
  ],
  "metadata": {
    "accelerator": "GPU",
    "colab": {
      "gpuType": "T4",
      "provenance": []
    },
    "kernelspec": {
      "display_name": "base",
      "language": "python",
      "name": "python3"
    },
    "language_info": {
      "name": "python",
      "version": "3.12.7"
    }
  },
  "nbformat": 4,
  "nbformat_minor": 0
}
