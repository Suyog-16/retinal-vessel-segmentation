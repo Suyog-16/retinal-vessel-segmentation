{
 "cells": [
  {
   "cell_type": "code",
   "execution_count": 14,
   "id": "09e50b60",
   "metadata": {},
   "outputs": [],
   "source": [
    "import torch\n",
    "import pandas\n",
    "from torch.utils.data import Dataset,DataLoader\n",
    "from torchvision import transforms\n",
    "import os\n",
    "import PIL as Image\n"
   ]
  },
  {
   "cell_type": "markdown",
   "id": "380a198d",
   "metadata": {},
   "source": [
    "### Custom Dataset"
   ]
  },
  {
   "cell_type": "code",
   "execution_count": 15,
   "id": "d0dccc19",
   "metadata": {},
   "outputs": [],
   "source": [
    "class DRIVE_dataset(Dataset):\n",
    "    def __init__(self,img_dir,mask_dir,transforms = None, mask_transfrom = None):\n",
    "        self.img_dir = img_dir\n",
    "        self.mask_dir = mask_dir\n",
    "        self.transforms = transforms\n",
    "        self.mask_transform = mask_transfrom\n",
    "        self.images = os.listdir(img_dir)\n",
    "    \n",
    "    def __len__(self):\n",
    "        return len(self.images)\n",
    "\n",
    "    def __getitem__(self, index):\n",
    "        image_name = self.images[index]\n",
    "        image_path = os.path.join(self.img_dir,image_name)\n",
    "        mask_path = os.path.join(self.mask_dir,image_name) # considering that masks also have the same name\n",
    "\n",
    "        image = Image.open(image_path).convert(\"RGB\")        \n",
    "        mask = Image.open(mask_path)\n",
    "\n",
    "        if self.transforms:\n",
    "            image = self.transforms(image)\n",
    "        if self.mask_transform:\n",
    "            mask = self.mask_transform(mask)\n",
    "\n",
    "        return image,mask\n",
    "        "
   ]
  },
  {
   "cell_type": "code",
   "execution_count": null,
   "id": "8ed4ff51",
   "metadata": {},
   "outputs": [],
   "source": [
    "\n"
   ]
  }
 ],
 "metadata": {
  "kernelspec": {
   "display_name": "my_new_env",
   "language": "python",
   "name": "python3"
  },
  "language_info": {
   "codemirror_mode": {
    "name": "ipython",
    "version": 3
   },
   "file_extension": ".py",
   "mimetype": "text/x-python",
   "name": "python",
   "nbconvert_exporter": "python",
   "pygments_lexer": "ipython3",
   "version": "3.10.16"
  }
 },
 "nbformat": 4,
 "nbformat_minor": 5
}
